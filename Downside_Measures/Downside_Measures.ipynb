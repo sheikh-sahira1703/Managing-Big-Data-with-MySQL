{
  "nbformat": 4,
  "nbformat_minor": 0,
  "metadata": {
    "colab": {
      "name": "Downside_Measures.ipynb",
      "provenance": [],
      "toc_visible": true,
      "authorship_tag": "ABX9TyM5p6+wUV9Fmz0UdGjwVYfs",
      "include_colab_link": true
    },
    "kernelspec": {
      "name": "python3",
      "display_name": "Python 3"
    }
  },
  "cells": [
    {
      "cell_type": "markdown",
      "metadata": {
        "id": "view-in-github",
        "colab_type": "text"
      },
      "source": [
        "<a href=\"https://colab.research.google.com/github/sheikh-sahira1703/Managing-Big-Data-with-MySQL/blob/master/Downside_Measures/Downside_Measures.ipynb\" target=\"_parent\"><img src=\"https://colab.research.google.com/assets/colab-badge.svg\" alt=\"Open In Colab\"/></a>"
      ]
    },
    {
      "cell_type": "markdown",
      "metadata": {
        "id": "JXn_I9LJWoRz"
      },
      "source": [
        "# Downside Measures"
      ]
    },
    {
      "cell_type": "code",
      "metadata": {
        "id": "6VbuU5tvWfdD",
        "outputId": "44188140-9286-412b-d502-8ceeb9c75791",
        "colab": {
          "base_uri": "https://localhost:8080/",
          "height": 51
        }
      },
      "source": [
        "import pandas as pd\n",
        "import edhec_risk_kit as erk\n",
        "%load_ext autoreload \n",
        "%autoreload 2\n",
        "import matplotlib.pyplot as plt\n",
        "%matplotlib inline\n",
        "import numpy as np\n",
        "from scipy.stats import norm "
      ],
      "execution_count": 20,
      "outputs": [
        {
          "output_type": "stream",
          "text": [
            "The autoreload extension is already loaded. To reload it, use:\n",
            "  %reload_ext autoreload\n"
          ],
          "name": "stdout"
        }
      ]
    },
    {
      "cell_type": "code",
      "metadata": {
        "id": "SiOxmMf4W4r3"
      },
      "source": [
        "hfi = erk.get_hfi_returns()"
      ],
      "execution_count": 3,
      "outputs": []
    },
    {
      "cell_type": "markdown",
      "metadata": {
        "id": "Q9bTtQM2XXqp"
      },
      "source": [
        "# Semideviation"
      ]
    },
    {
      "cell_type": "code",
      "metadata": {
        "id": "dKPDN8DhXQiA",
        "outputId": "eaf59079-c69d-4fa1-d68a-8a95ca0d8f9a",
        "colab": {
          "base_uri": "https://localhost:8080/",
          "height": 255
        }
      },
      "source": [
        "hfi.std(ddof=0)  #average deviation from the mean (includes both up side and down side deviations)\n",
        "# we need the deviations below the average only and not above the average "
      ],
      "execution_count": 5,
      "outputs": [
        {
          "output_type": "execute_result",
          "data": {
            "text/plain": [
              "Convertible Arbitrage     0.016536\n",
              "CTA Global                0.023290\n",
              "Distressed Securities     0.017009\n",
              "Emerging Markets          0.032476\n",
              "Equity Market Neutral     0.008115\n",
              "Event Driven              0.016712\n",
              "Fixed Income Arbitrage    0.011517\n",
              "Global Macro              0.014694\n",
              "Long/Short Equity         0.019897\n",
              "Merger Arbitrage          0.009600\n",
              "Relative Value            0.011462\n",
              "Short Selling             0.047655\n",
              "Funds Of Funds            0.015536\n",
              "dtype: float64"
            ]
          },
          "metadata": {
            "tags": []
          },
          "execution_count": 5
        }
      ]
    },
    {
      "cell_type": "code",
      "metadata": {
        "id": "Dv5deR5GXdD3",
        "outputId": "964dd6f9-c770-47d0-ed77-3f505c8d9af8",
        "colab": {
          "base_uri": "https://localhost:8080/",
          "height": 255
        }
      },
      "source": [
        "hfi[hfi<0].std(ddof=0) # here we are only considering that subset which has negative returns "
      ],
      "execution_count": 6,
      "outputs": [
        {
          "output_type": "execute_result",
          "data": {
            "text/plain": [
              "Convertible Arbitrage     0.019540\n",
              "CTA Global                0.012443\n",
              "Distressed Securities     0.015185\n",
              "Emerging Markets          0.028039\n",
              "Equity Market Neutral     0.009566\n",
              "Event Driven              0.015429\n",
              "Fixed Income Arbitrage    0.017763\n",
              "Global Macro              0.006579\n",
              "Long/Short Equity         0.014051\n",
              "Merger Arbitrage          0.008875\n",
              "Relative Value            0.012244\n",
              "Short Selling             0.027283\n",
              "Funds Of Funds            0.012122\n",
              "dtype: float64"
            ]
          },
          "metadata": {
            "tags": []
          },
          "execution_count": 6
        }
      ]
    },
    {
      "cell_type": "code",
      "metadata": {
        "id": "oz0cw5iyYUJ1",
        "outputId": "6db9efdc-4000-483f-e1c3-a6293dd0b0d4",
        "colab": {
          "base_uri": "https://localhost:8080/",
          "height": 255
        }
      },
      "source": [
        "erk.semideviation(hfi)"
      ],
      "execution_count": 7,
      "outputs": [
        {
          "output_type": "execute_result",
          "data": {
            "text/plain": [
              "Convertible Arbitrage     0.019540\n",
              "CTA Global                0.012443\n",
              "Distressed Securities     0.015185\n",
              "Emerging Markets          0.028039\n",
              "Equity Market Neutral     0.009566\n",
              "Event Driven              0.015429\n",
              "Fixed Income Arbitrage    0.017763\n",
              "Global Macro              0.006579\n",
              "Long/Short Equity         0.014051\n",
              "Merger Arbitrage          0.008875\n",
              "Relative Value            0.012244\n",
              "Short Selling             0.027283\n",
              "Funds Of Funds            0.012122\n",
              "dtype: float64"
            ]
          },
          "metadata": {
            "tags": []
          },
          "execution_count": 7
        }
      ]
    },
    {
      "cell_type": "markdown",
      "metadata": {
        "id": "iWHKupR7ZJ7F"
      },
      "source": [
        "### VaR and CVaR\n",
        "\n",
        "Value at risk\n",
        "\n",
        "\n",
        "\n",
        "*   Historic VaR\n",
        "*   Parametric VaR - Gaussian\n",
        "*   Modified/Cornish-Fischer VaR\n",
        "\n"
      ]
    },
    {
      "cell_type": "code",
      "metadata": {
        "id": "-2HlZYZYZFMB",
        "outputId": "a6ad51f0-e28e-4b11-ea7e-0d6ccaedb740",
        "colab": {
          "base_uri": "https://localhost:8080/",
          "height": 68
        }
      },
      "source": [
        "np.percentile(hfi, 5, axis=0)"
      ],
      "execution_count": 10,
      "outputs": [
        {
          "output_type": "execute_result",
          "data": {
            "text/plain": [
              "array([-0.01576, -0.03169, -0.01966, -0.04247, -0.00814, -0.02535,\n",
              "       -0.00787, -0.01499, -0.02598, -0.01047, -0.01174, -0.06783,\n",
              "       -0.02047])"
            ]
          },
          "metadata": {
            "tags": []
          },
          "execution_count": 10
        }
      ]
    },
    {
      "cell_type": "code",
      "metadata": {
        "id": "2nIuvLqLZ8rU"
      },
      "source": [
        "def var_historic(r, level=5):\n",
        "    \"\"\"\n",
        "    VaR Historic \n",
        "    \"\"\"\n",
        "    if isinstance(r, pd.DataFrame):\n",
        "        return r.aggregate(var_historic, level=level) #calls this function for every column if the series is a dataframe \n",
        "    elif isinstance(r, pd.Series):\n",
        "        return -np.percentile(r, level)\n",
        "    else:\n",
        "        raise TypeError('Expected r to be a series or a dataframe')"
      ],
      "execution_count": 16,
      "outputs": []
    },
    {
      "cell_type": "code",
      "metadata": {
        "id": "E70oTtZUbX7k",
        "outputId": "cdc7afb6-b13b-4f29-c5a5-d64941bd1f1d",
        "colab": {
          "base_uri": "https://localhost:8080/",
          "height": 255
        }
      },
      "source": [
        "var_historic(hfi)"
      ],
      "execution_count": 17,
      "outputs": [
        {
          "output_type": "execute_result",
          "data": {
            "text/plain": [
              "Convertible Arbitrage     0.01576\n",
              "CTA Global                0.03169\n",
              "Distressed Securities     0.01966\n",
              "Emerging Markets          0.04247\n",
              "Equity Market Neutral     0.00814\n",
              "Event Driven              0.02535\n",
              "Fixed Income Arbitrage    0.00787\n",
              "Global Macro              0.01499\n",
              "Long/Short Equity         0.02598\n",
              "Merger Arbitrage          0.01047\n",
              "Relative Value            0.01174\n",
              "Short Selling             0.06783\n",
              "Funds Of Funds            0.02047\n",
              "dtype: float64"
            ]
          },
          "metadata": {
            "tags": []
          },
          "execution_count": 17
        }
      ]
    },
    {
      "cell_type": "code",
      "metadata": {
        "id": "zTIXmGQTbhMw",
        "outputId": "42f04ee7-504b-4e43-b014-a2ef976e613d",
        "colab": {
          "base_uri": "https://localhost:8080/",
          "height": 255
        }
      },
      "source": [
        "erk.var_historic(hfi)"
      ],
      "execution_count": 18,
      "outputs": [
        {
          "output_type": "execute_result",
          "data": {
            "text/plain": [
              "Convertible Arbitrage     0.01576\n",
              "CTA Global                0.03169\n",
              "Distressed Securities     0.01966\n",
              "Emerging Markets          0.04247\n",
              "Equity Market Neutral     0.00814\n",
              "Event Driven              0.02535\n",
              "Fixed Income Arbitrage    0.00787\n",
              "Global Macro              0.01499\n",
              "Long/Short Equity         0.02598\n",
              "Merger Arbitrage          0.01047\n",
              "Relative Value            0.01174\n",
              "Short Selling             0.06783\n",
              "Funds Of Funds            0.02047\n",
              "dtype: float64"
            ]
          },
          "metadata": {
            "tags": []
          },
          "execution_count": 18
        }
      ]
    },
    {
      "cell_type": "code",
      "metadata": {
        "id": "js-hpL9mcb5X"
      },
      "source": [
        "z = norm.ppf(.05)"
      ],
      "execution_count": 25,
      "outputs": []
    },
    {
      "cell_type": "code",
      "metadata": {
        "id": "NgCoxFxLcwgn",
        "outputId": "5a8a3483-e827-4e2a-99c3-156d2ad29cd4",
        "colab": {
          "base_uri": "https://localhost:8080/",
          "height": 34
        }
      },
      "source": [
        "z"
      ],
      "execution_count": 26,
      "outputs": [
        {
          "output_type": "execute_result",
          "data": {
            "text/plain": [
              "-1.6448536269514729"
            ]
          },
          "metadata": {
            "tags": []
          },
          "execution_count": 26
        }
      ]
    },
    {
      "cell_type": "code",
      "metadata": {
        "id": "o0vM4wPVc59o",
        "outputId": "c581820f-0f36-4054-fd95-38dc4b10ec94",
        "colab": {
          "base_uri": "https://localhost:8080/",
          "height": 255
        }
      },
      "source": [
        "-(hfi.mean() + (z*hfi.std(ddof=0)))"
      ],
      "execution_count": 32,
      "outputs": [
        {
          "output_type": "execute_result",
          "data": {
            "text/plain": [
              "Convertible Arbitrage     0.021691\n",
              "CTA Global                0.034235\n",
              "Distressed Securities     0.021032\n",
              "Emerging Markets          0.047164\n",
              "Equity Market Neutral     0.008850\n",
              "Event Driven              0.021144\n",
              "Fixed Income Arbitrage    0.014579\n",
              "Global Macro              0.018766\n",
              "Long/Short Equity         0.026397\n",
              "Merger Arbitrage          0.010435\n",
              "Relative Value            0.013061\n",
              "Short Selling             0.080086\n",
              "Funds Of Funds            0.021292\n",
              "dtype: float64"
            ]
          },
          "metadata": {
            "tags": []
          },
          "execution_count": 32
        }
      ]
    },
    {
      "cell_type": "code",
      "metadata": {
        "id": "0cu7JQOKdASO",
        "outputId": "d94c0ca0-23c2-4423-f2b8-2444a447f79d",
        "colab": {
          "base_uri": "https://localhost:8080/",
          "height": 255
        }
      },
      "source": [
        "erk.var_gaussian(hfi)"
      ],
      "execution_count": 34,
      "outputs": [
        {
          "output_type": "execute_result",
          "data": {
            "text/plain": [
              "Convertible Arbitrage     0.021691\n",
              "CTA Global                0.034235\n",
              "Distressed Securities     0.021032\n",
              "Emerging Markets          0.047164\n",
              "Equity Market Neutral     0.008850\n",
              "Event Driven              0.021144\n",
              "Fixed Income Arbitrage    0.014579\n",
              "Global Macro              0.018766\n",
              "Long/Short Equity         0.026397\n",
              "Merger Arbitrage          0.010435\n",
              "Relative Value            0.013061\n",
              "Short Selling             0.080086\n",
              "Funds Of Funds            0.021292\n",
              "dtype: float64"
            ]
          },
          "metadata": {
            "tags": []
          },
          "execution_count": 34
        }
      ]
    },
    {
      "cell_type": "code",
      "metadata": {
        "id": "nk-EHpvFd9Qn",
        "outputId": "1c723457-c38c-457c-9609-e0c48009a517",
        "colab": {
          "base_uri": "https://localhost:8080/",
          "height": 404
        }
      },
      "source": [
        "var_list = [erk.var_gaussian(hfi), erk.var_gaussian(hfi, modified=True), erk.var_historic(hfi)]\n",
        "comparision = pd.concat(var_list, axis=1)\n",
        "comparision.columns = ['Gaussian', 'Cornish Fischer', 'Historic']\n",
        "comparision.plot.bar(title = 'EDHEC Hedge Fund Indices VaR')"
      ],
      "execution_count": 37,
      "outputs": [
        {
          "output_type": "execute_result",
          "data": {
            "text/plain": [
              "<matplotlib.axes._subplots.AxesSubplot at 0x7fec9baeb6d8>"
            ]
          },
          "metadata": {
            "tags": []
          },
          "execution_count": 37
        },
        {
          "output_type": "display_data",
          "data": {
            "image/png": "[encoded data removed]",
            "text/plain": [
              "<Figure size 432x288 with 1 Axes>"
            ]
          },
          "metadata": {
            "tags": [],
            "needs_background": "light"
          }
        }
      ]
    },
    {
      "cell_type": "markdown",
      "metadata": {
        "id": "g6dvWS1hf5Po"
      },
      "source": [
        "### Beyond VaR aka CVaR"
      ]
    },
    {
      "cell_type": "code",
      "metadata": {
        "id": "IeWEiLs8fhW6",
        "outputId": "2c5f4589-23cd-4e04-d37e-e27288634017",
        "colab": {
          "base_uri": "https://localhost:8080/",
          "height": 255
        }
      },
      "source": [
        "erk.cvar_historic(hfi)"
      ],
      "execution_count": 38,
      "outputs": [
        {
          "output_type": "execute_result",
          "data": {
            "text/plain": [
              "Convertible Arbitrage     0.036550\n",
              "CTA Global                0.041264\n",
              "Distressed Securities     0.036429\n",
              "Emerging Markets          0.072364\n",
              "Equity Market Neutral     0.016879\n",
              "Event Driven              0.038336\n",
              "Fixed Income Arbitrage    0.028257\n",
              "Global Macro              0.020629\n",
              "Long/Short Equity         0.041943\n",
              "Merger Arbitrage          0.019143\n",
              "Relative Value            0.024650\n",
              "Short Selling             0.096821\n",
              "Funds Of Funds            0.033207\n",
              "dtype: float64"
            ]
          },
          "metadata": {
            "tags": []
          },
          "execution_count": 38
        }
      ]
    }
  ]
}